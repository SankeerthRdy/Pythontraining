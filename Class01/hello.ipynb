{
 "cells": [
  {
   "cell_type": "markdown",
   "metadata": {},
   "source": [
    "## Introduction to NumPy \n",
    "\n"
   ]
  },
  {
   "cell_type": "markdown",
   "metadata": {},
   "source": [
    "#### NumPy (short for \"Numerical Python\") is a powerful library for numerical computing. It provides support for large, multi-dimensional arrays and matrices, along with a collection of mathematical functions to operate on these arrays."
   ]
  },
  {
   "cell_type": "code",
   "execution_count": 9,
   "metadata": {},
   "outputs": [
    {
     "data": {
      "text/plain": [
       "<module 'warnings' from '/usr/local/python/3.12.1/lib/python3.12/warnings.py'>"
      ]
     },
     "metadata": {},
     "output_type": "display_data"
    }
   ],
   "source": [
    "import warnings\n",
    "\n",
    "display(warnings)\n",
    "\n",
    "\n"
   ]
  },
  {
   "cell_type": "code",
   "execution_count": 8,
   "metadata": {},
   "outputs": [
    {
     "name": "stdout",
     "output_type": "stream",
     "text": [
      "Not bad\n"
     ]
    }
   ],
   "source": [
    "num = 1\n",
    "\n",
    "if num == 0 :\n",
    "    print(\"very good\")\n",
    "else: \n",
    "    print(\"Not bad\")"
   ]
  },
  {
   "cell_type": "code",
   "execution_count": 10,
   "metadata": {},
   "outputs": [
    {
     "name": "stdout",
     "output_type": "stream",
     "text": [
      "<class 'list'>\n",
      "<class 'tuple'>\n",
      "<class 'set'>\n"
     ]
    }
   ],
   "source": [
    "num1 = [1, 2, 3]\n",
    "num2 = (1, 2, 3)\n",
    "num3 = {1, 2, 3}\n",
    "print(type(num1))\n",
    "print(type(num2))\n",
    "print(type(num3))"
   ]
  },
  {
   "cell_type": "code",
   "execution_count": 10,
   "metadata": {},
   "outputs": [
    {
     "name": "stdout",
     "output_type": "stream",
     "text": [
      "2025:01:29\n"
     ]
    }
   ],
   "source": [
    "from datetime import datetime\n",
    "today = datetime.now()\n",
    "print(f\"{today:%Y:%m:%d}\")"
   ]
  },
  {
   "cell_type": "code",
   "execution_count": 11,
   "metadata": {},
   "outputs": [
    {
     "name": "stdout",
     "output_type": "stream",
     "text": [
      "language = python\n"
     ]
    }
   ],
   "source": [
    "language = \"python\"\n",
    "print(\"language =\", language)"
   ]
  },
  {
   "cell_type": "code",
   "execution_count": 16,
   "metadata": {},
   "outputs": [
    {
     "ename": "KeyError",
     "evalue": "'b'",
     "output_type": "error",
     "traceback": [
      "\u001b[0;31m---------------------------------------------------------------------------\u001b[0m",
      "\u001b[0;31mKeyError\u001b[0m                                  Traceback (most recent call last)",
      "Cell \u001b[0;32mIn[16], line 2\u001b[0m\n\u001b[1;32m      1\u001b[0m mydict \u001b[38;5;241m=\u001b[39m {\u001b[38;5;124m'\u001b[39m\u001b[38;5;124ma\u001b[39m\u001b[38;5;124m'\u001b[39m: apple}\n\u001b[0;32m----> 2\u001b[0m \u001b[43mmydict\u001b[49m\u001b[43m[\u001b[49m\u001b[38;5;124;43m'\u001b[39;49m\u001b[38;5;124;43mb\u001b[39;49m\u001b[38;5;124;43m'\u001b[39;49m\u001b[43m]\u001b[49m\n",
      "\u001b[0;31mKeyError\u001b[0m: 'b'"
     ]
    }
   ],
   "source": [
    "10 + '20'\n",
    "\n",
    "num1.upper()\n",
    "\n",
    "raise \n",
    "\n",
    "mydict = {'a': apple}\n",
    "mydict['b']\n",
    "\n",
    "num3 = int(input(\"enter a number:\"))\n",
    "\n",
    "Exception handling \n",
    "four blocks\n",
    "#try, except, else, finally\n",
    "mandatory       optional"
   ]
  },
  {
   "cell_type": "code",
   "execution_count": 19,
   "metadata": {},
   "outputs": [
    {
     "name": "stdout",
     "output_type": "stream",
     "text": [
      "got error\n",
      "unsupported operand type(s) for +: 'int' and 'str'\n"
     ]
    }
   ],
   "source": [
    "try:\n",
    "   num = 10 + '20'\n",
    "   print(num)\n",
    "except:\n",
    "   print(\"got error\")\n",
    "\n",
    "try:\n",
    "   num = 10 + '20'\n",
    "   print(num)\n",
    "except Exception as ex:\n",
    "   print(ex)"
   ]
  },
  {
   "cell_type": "code",
   "execution_count": 4,
   "metadata": {},
   "outputs": [
    {
     "name": "stdout",
     "output_type": "stream",
     "text": [
      "Lucky_num: 4\n",
      "Please try again with decreasing your guess number\n"
     ]
    }
   ],
   "source": [
    "import random\n",
    "\n",
    "# # Generate a random number between 0 and 50\n",
    "Lucky_num = random.randint(0, 50)\n",
    "print(\"Lucky_num:\", Lucky_num)\n",
    "gussed_num = int(input(\"Enter a number between 0 & 50:\"))\n",
    "\n",
    "if gussed_num == Lucky_num:\n",
    "    print(\"You Gussed correct !!!\")\n",
    "elif gussed_num > Lucky_num:\n",
    "    print(\"Please try again with decreasing your guess number\")\n",
    "elif gussed_num < Lucky_num:\n",
    "    print(\"Please try again with increasing your guess number\")\n"
   ]
  }
 ],
 "metadata": {
  "kernelspec": {
   "display_name": "Python 3",
   "language": "python",
   "name": "python3"
  },
  "language_info": {
   "codemirror_mode": {
    "name": "ipython",
    "version": 3
   },
   "file_extension": ".py",
   "mimetype": "text/x-python",
   "name": "python",
   "nbconvert_exporter": "python",
   "pygments_lexer": "ipython3",
   "version": "3.12.1"
  }
 },
 "nbformat": 4,
 "nbformat_minor": 2
}
